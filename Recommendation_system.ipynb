{
 "cells": [
  {
   "cell_type": "code",
   "execution_count": 3,
   "id": "7c0ed8a4-d731-4898-988d-2b6944447de4",
   "metadata": {},
   "outputs": [],
   "source": [
    "import pandas as pd\n",
    "import numpy as np\n",
    "import tensorflow as tf \n",
    "from sentence_transformers import SentenceTransformer\n",
    "from sklearn.metrics.pairwise import cosine_similarity\n",
    "from prettytable import PrettyTable"
   ]
  },
  {
   "cell_type": "code",
   "execution_count": 5,
   "id": "b195e982-c302-4e80-8a6b-a105132abdc8",
   "metadata": {},
   "outputs": [],
   "source": [
    "model = SentenceTransformer('all-MiniLM-L6-v2')"
   ]
  },
  {
   "cell_type": "code",
   "execution_count": 7,
   "id": "8769d8ae-f743-43d5-8d44-9bb68b71eb64",
   "metadata": {},
   "outputs": [],
   "source": [
    "def load_data(file_path):\n",
    "    # Reading the CSV file from the provided path\n",
    "    df = pd.read_csv(file_path)\n",
    "    \n",
    "    # Print column names to verify\n",
    "    print(\"Columns in the dataset:\", df.columns)\n",
    "    \n",
    "    # Clean column names by stripping leading/trailing spaces (if any)\n",
    "    df.columns = df.columns.str.strip()\n",
    "    \n",
    "    # Selecting relevant columns (adjusted according to your dataset)\n",
    "    df = df[['Movie Name', 'Description']].dropna()  # Use 'Movie Name' and 'Description'\n",
    "    \n",
    "    # Limiting the dataset to the top 500 rows\n",
    "    df = df.head(500)\n",
    "    \n",
    "    # Returning the processed dataframe\n",
    "    return df\n",
    "\n"
   ]
  },
  {
   "cell_type": "code",
   "execution_count": 9,
   "id": "82aca357-ae50-49a4-96fc-a64f785c1324",
   "metadata": {},
   "outputs": [
    {
     "name": "stdout",
     "output_type": "stream",
     "text": [
      "Columns in the dataset: Index(['Unnamed: 0', 'Movie Name', 'Year of Release', 'Watch Time',\n",
      "       'Movie Rating', 'Metascore of movie', 'Gross', 'Votes', 'Description'],\n",
      "      dtype='object')\n"
     ]
    },
    {
     "data": {
      "text/html": [
       "<div>\n",
       "<style scoped>\n",
       "    .dataframe tbody tr th:only-of-type {\n",
       "        vertical-align: middle;\n",
       "    }\n",
       "\n",
       "    .dataframe tbody tr th {\n",
       "        vertical-align: top;\n",
       "    }\n",
       "\n",
       "    .dataframe thead th {\n",
       "        text-align: right;\n",
       "    }\n",
       "</style>\n",
       "<table border=\"1\" class=\"dataframe\">\n",
       "  <thead>\n",
       "    <tr style=\"text-align: right;\">\n",
       "      <th></th>\n",
       "      <th>Movie Name</th>\n",
       "      <th>Description</th>\n",
       "    </tr>\n",
       "  </thead>\n",
       "  <tbody>\n",
       "    <tr>\n",
       "      <th>0</th>\n",
       "      <td>The Shawshank Redemption</td>\n",
       "      <td>Over the course of several years, two convicts...</td>\n",
       "    </tr>\n",
       "    <tr>\n",
       "      <th>1</th>\n",
       "      <td>The Godfather</td>\n",
       "      <td>Don Vito Corleone, head of a mafia family, dec...</td>\n",
       "    </tr>\n",
       "    <tr>\n",
       "      <th>2</th>\n",
       "      <td>The Dark Knight</td>\n",
       "      <td>When the menace known as the Joker wreaks havo...</td>\n",
       "    </tr>\n",
       "    <tr>\n",
       "      <th>3</th>\n",
       "      <td>Schindler's List</td>\n",
       "      <td>In German-occupied Poland during World War II,...</td>\n",
       "    </tr>\n",
       "    <tr>\n",
       "      <th>4</th>\n",
       "      <td>12 Angry Men</td>\n",
       "      <td>The jury in a New York City murder trial is fr...</td>\n",
       "    </tr>\n",
       "  </tbody>\n",
       "</table>\n",
       "</div>"
      ],
      "text/plain": [
       "                 Movie Name                                        Description\n",
       "0  The Shawshank Redemption  Over the course of several years, two convicts...\n",
       "1             The Godfather  Don Vito Corleone, head of a mafia family, dec...\n",
       "2           The Dark Knight  When the menace known as the Joker wreaks havo...\n",
       "3          Schindler's List  In German-occupied Poland during World War II,...\n",
       "4              12 Angry Men  The jury in a New York City murder trial is fr..."
      ]
     },
     "execution_count": 9,
     "metadata": {},
     "output_type": "execute_result"
    }
   ],
   "source": [
    "\n",
    "file_path = 'Top_1000_IMDb_movies_New_version.csv'\n",
    "\n",
    "# Loading the data using the function\n",
    "df = load_data(file_path)\n",
    "\n",
    "# Displaying the first few rows to confirm the data is loaded correctly\n",
    "df.head()\n",
    "\n"
   ]
  },
  {
   "cell_type": "code",
   "execution_count": 11,
   "id": "ca320170-0f26-4e9c-a815-12974f86066f",
   "metadata": {},
   "outputs": [
    {
     "name": "stdout",
     "output_type": "stream",
     "text": [
      "Columns in the dataset: Index(['Unnamed: 0', 'Movie Name', 'Year of Release', 'Watch Time',\n",
      "       'Movie Rating', 'Metascore of movie', 'Gross', 'Votes', 'Description'],\n",
      "      dtype='object')\n"
     ]
    },
    {
     "data": {
      "application/vnd.jupyter.widget-view+json": {
       "model_id": "e3cf14537d024278b30fd79ba7abf78e",
       "version_major": 2,
       "version_minor": 0
      },
      "text/plain": [
       "Batches:   0%|          | 0/16 [00:00<?, ?it/s]"
      ]
     },
     "metadata": {},
     "output_type": "display_data"
    }
   ],
   "source": [
    "# This function will take care of creating embeddings for all movie descriptions\n",
    "def compute_embeddings(df):\n",
    "    # We take the 'Description' column and generate embeddings for it\n",
    "    embeddings = model.encode(df['Description'].tolist(), show_progress_bar=True)\n",
    "    return embeddings\n",
    "\n",
    "# Now, let's load the data and generate the embeddings for the descriptions\n",
    "file_path = 'Top_1000_IMDb_movies_New_version.csv'  # This is where our data is stored\n",
    "df = load_data(file_path)  # Load the cleaned data\n",
    "movie_embeddings = compute_embeddings(df)  # Generate embeddings for the descriptions\n"
   ]
  },
  {
   "cell_type": "code",
   "execution_count": 12,
   "id": "3bd73546-5367-4125-8b81-d3d3b619c077",
   "metadata": {},
   "outputs": [],
   "source": [
    "from sklearn.feature_extraction.text import ENGLISH_STOP_WORDS\n",
    "\n",
    "def preprocess_query(query):\n",
    "    # Convert query to lowercase to maintain case insensitivity\n",
    "    query = query.lower()\n",
    "    \n",
    "    # Remove stopwords (if applicable)\n",
    "    query = \" \".join([word for word in query.split() if word not in ENGLISH_STOP_WORDS])\n",
    "    \n",
    "    return query\n",
    "\n",
    "# Function to get top N movie recommendations based on user query\n",
    "def get_movie_recommendations(query, df, movie_embeddings, top_n=5, threshold=0.3):\n",
    "    # Preprocess the user's query\n",
    "    query = preprocess_query(query)\n",
    "    \n",
    "    # Generate an embedding for the user's query\n",
    "    query_embedding = model.encode([query])\n",
    "    \n",
    "    # Calculate cosine similarity between the query and the movie embeddings\n",
    "    cosine_similarities = cosine_similarity(query_embedding, movie_embeddings)\n",
    "    \n",
    "    # Get indices of the top N most similar movies\n",
    "    similar_indices = cosine_similarities[0].argsort()[-top_n:][::-1]\n",
    "    \n",
    "    # Extract similarity scores\n",
    "    similarity_scores = cosine_similarities[0][similar_indices]\n",
    "    \n",
    "    # Get the movie names and ratings from the dataframe\n",
    "    movie_names = df.iloc[similar_indices]['Movie Name'].tolist()\n",
    "    movie_ratings = df.iloc[similar_indices]['Movie Rating'].tolist()  # Ensure 'Movie Rating' column exists in df\n",
    "    \n",
    "    # Filter recommendations based on threshold for better relevance\n",
    "    filtered_movie_names = []\n",
    "    filtered_similarity_scores = []\n",
    "    filtered_movie_ratings = []\n",
    "    \n",
    "    for movie, score, rating in zip(movie_names, similarity_scores, movie_ratings):\n",
    "        if score >= threshold:  # If similarity score is above threshold\n",
    "            filtered_movie_names.append(movie)\n",
    "            filtered_similarity_scores.append(round(score, 4))  # Round the score for readability\n",
    "            filtered_movie_ratings.append(rating)\n",
    "    \n",
    "    table = PrettyTable()\n",
    "    table.field_names = [\"Movie Name\", \"Similarity Score\", \"Movie Rating\"]  # Table headers\n",
    "    \n",
    "    # Add each filtered recommendation to the table\n",
    "    for movie, score, rating in zip(filtered_movie_names, filtered_similarity_scores, filtered_movie_ratings):\n",
    "        table.add_row([movie, score, rating])\n",
    "\n",
    "    return table"
   ]
  },
  {
   "cell_type": "code",
   "execution_count": 15,
   "id": "94d0900c-dad5-4846-9183-f9441d069b59",
   "metadata": {},
   "outputs": [
    {
     "name": "stdout",
     "output_type": "stream",
     "text": [
      "Columns in the dataset: Index(['Unnamed: 0', 'Movie Name', 'Year of Release', 'Watch Time',\n",
      "       'Movie Rating', 'Metascore of movie', 'Gross', 'Votes', 'Description'],\n",
      "      dtype='object')\n"
     ]
    },
    {
     "data": {
      "application/vnd.jupyter.widget-view+json": {
       "model_id": "1d1a0f2b4d86444a95913e59cd055b3a",
       "version_major": 2,
       "version_minor": 0
      },
      "text/plain": [
       "Batches:   0%|          | 0/16 [00:00<?, ?it/s]"
      ]
     },
     "metadata": {},
     "output_type": "display_data"
    }
   ],
   "source": [
    "# Load the data\n",
    "file_path = 'Top_1000_IMDb_movies_New_version.csv' \n",
    "df = load_data(file_path)\n",
    "\n",
    "# Compute embeddings for movie descriptions\n",
    "movie_embeddings = compute_embeddings(df)\n",
    "\n"
   ]
  },
  {
   "cell_type": "code",
   "execution_count": 17,
   "id": "0894db5a-ec7b-446c-9103-4c7affed527c",
   "metadata": {},
   "outputs": [
    {
     "name": "stdin",
     "output_type": "stream",
     "text": [
      "Tell me what kind of movie you're in the mood for:  I love thrilling action movies set in space, with a comedic twist.\n"
     ]
    },
    {
     "name": "stdout",
     "output_type": "stream",
     "text": [
      "\n",
      "Here are the top 5 movie recommendations based on your preferences:\n",
      "+--------------------+------------------+--------------+\n",
      "|     Movie Name     | Similarity Score | Movie Rating |\n",
      "+--------------------+------------------+--------------+\n",
      "|         8½         |      0.4357      |     8.0      |\n",
      "|   Amores perros    |      0.4264      |     8.1      |\n",
      "|    Sunset Blvd.    |      0.417       |     8.4      |\n",
      "| Sullivan's Travels |      0.3901      |     7.9      |\n",
      "|    Nightcrawler    |      0.3701      |     7.8      |\n",
      "+--------------------+------------------+--------------+\n"
     ]
    }
   ],
   "source": [
    "# Example input from user\n",
    "user_query = input(\"Tell me what kind of movie you're in the mood for: \")\n",
    "\n",
    "# Generate movie embeddings for the dataset\n",
    "df = pd.read_csv(\"Top_1000_IMDb_movies_New_version.csv\")  \n",
    "movie_embeddings = model.encode(df['Description'].tolist())  \n",
    "\n",
    "# Get movie recommendations based on user input\n",
    "recommendations = get_movie_recommendations(user_query, df, movie_embeddings, top_n=5)\n",
    "\n",
    "# Output the top 5 movie recommendations in a table format\n",
    "print(\"\\nHere are the top 5 movie recommendations based on your preferences:\")\n",
    "print(recommendations)\n"
   ]
  },
  {
   "cell_type": "code",
   "execution_count": null,
   "id": "3e2e2ab3-9744-4be7-a3f7-1a08be8797c0",
   "metadata": {},
   "outputs": [],
   "source": []
  }
 ],
 "metadata": {
  "kernelspec": {
   "display_name": "Python 3 (ipykernel)",
   "language": "python",
   "name": "python3"
  },
  "language_info": {
   "codemirror_mode": {
    "name": "ipython",
    "version": 3
   },
   "file_extension": ".py",
   "mimetype": "text/x-python",
   "name": "python",
   "nbconvert_exporter": "python",
   "pygments_lexer": "ipython3",
   "version": "3.12.3"
  }
 },
 "nbformat": 4,
 "nbformat_minor": 5
}
